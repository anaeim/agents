{
 "cells": [
  {
   "cell_type": "code",
   "execution_count": 1,
   "id": "917fb7b3",
   "metadata": {},
   "outputs": [],
   "source": [
    "from dotenv import load_dotenv\n",
    "from openai import AsyncOpenAI\n",
    "from agents import Agent, Runner, trace, function_tool, OpenAIChatCompletionsModel, input_guardrail, GuardrailFunctionOutput\n",
    "from typing import Dict\n",
    "import sendgrid\n",
    "import os\n",
    "from sendgrid.helpers.mail import Mail, Email, To, Content\n",
    "from pydantic import BaseModel"
   ]
  },
  {
   "cell_type": "code",
   "execution_count": 2,
   "id": "52642e32",
   "metadata": {},
   "outputs": [
    {
     "data": {
      "text/plain": [
       "True"
      ]
     },
     "execution_count": 2,
     "metadata": {},
     "output_type": "execute_result"
    }
   ],
   "source": [
    "load_dotenv(override=True)"
   ]
  },
  {
   "cell_type": "markdown",
   "id": "f078201a",
   "metadata": {},
   "source": [
    "## email generator\n",
    "generate an email that conforms with the structured output you defined in the pydantic object."
   ]
  },
  {
   "cell_type": "code",
   "execution_count": 16,
   "id": "715f8dd3",
   "metadata": {},
   "outputs": [
    {
     "name": "stdout",
     "output_type": "stream",
     "text": [
      "email address: infra@company.com\n",
      "subject: DataError Report: String Data Truncated\n",
      "body of email: Dear Team,\n",
      "\n",
      "I am encountering a DataError: \"string data, right truncated\" during data processing tasks. This issue seems to stem from a character limit being exceeded in the database. \n",
      "\n",
      "Could you please investigate this discrepancy? \n",
      "\n",
      "Best regards,\n",
      "Ali \n",
      "Data Scientist\n"
     ]
    }
   ],
   "source": [
    "from pydantic import BaseModel, Field\n",
    "\n",
    "class EmailFormatOutput(BaseModel):\n",
    "    email_address: str = Field(description=\"the email address to send the email\", example=\"user@example.com\")\n",
    "    subject: str = Field(description=\"subject of email\")\n",
    "    body_of_emai: str = Field(description=\"main body of the email\")\n",
    "\n",
    "\n",
    "user_name = 'ali'\n",
    "email_writer_system_instruction = f\"\"\"\n",
    "your name id {user_name}, and you are a data scientist working at insurance company.\n",
    "you want to write an email to report a error your received.\n",
    "You write concise, to the point cold emails that includes technical keywords.\n",
    "your email include three main sections: email address, subject of the email, and body of email.\n",
    "\"\"\"\n",
    "\n",
    "email_writer_agent = Agent(\n",
    "    name=\"email writer agent\",\n",
    "    instructions=email_writer_system_instruction,\n",
    "    output_type=EmailFormatOutput,\n",
    "    model=\"gpt-4o-mini\"\n",
    ")\n",
    "\n",
    "user_message = \"\"\"\n",
    "you got an error for \"DataError: string data, right truncated\".\n",
    "you want to write an email to infra@company.com to report this error\n",
    "\"\"\"\n",
    "\n",
    "with trace('structured email writer'):\n",
    "    email = await Runner.run(email_writer_agent, user_message)\n",
    "\n",
    "print(f'email address: {email.final_output.email_address}')\n",
    "print(f'subject: {email.final_output.subject}')\n",
    "print(f'body of email: {email.final_output.body_of_emai}')"
   ]
  },
  {
   "cell_type": "markdown",
   "id": "e5827f25",
   "metadata": {},
   "source": [
    "## carefull email generator\n",
    "it use a guardrail for email generatuion.<br>\n",
    "your guardrial trips if no error report in the email."
   ]
  },
  {
   "cell_type": "markdown",
   "id": "edb463f1",
   "metadata": {},
   "source": [
    "### Q. how to create a gaurdrail?\n",
    "- create a pydantic object that hints what yo are looking for in the guardrail\n",
    "- create an guardrail agent\n",
    "- you build a async function that is decorated with `@input_guardrail`\n",
    "    - inside the  function, you call a user defined gaurdrail agent\n",
    "    - you set the condition for tripwire_triggered\n",
    "    - you return  GuardrailFunctionOutput and `tripwire_triggered`\n",
    "- you pass the guardrail function as a `input_guardrails` to your main calling agent."
   ]
  },
  {
   "cell_type": "code",
   "execution_count": null,
   "id": "9ab4ff58",
   "metadata": {},
   "outputs": [
    {
     "name": "stdout",
     "output_type": "stream",
     "text": [
      "email address: infra@company.com\n",
      "subject: Report of DataError: String Data Truncated\n",
      "body of email: Dear Team,\n",
      "\n",
      "I am writing to report a recurring issue encountered during data processing. The error message is as follows:\n",
      "\n",
      "\"DataError: string data, right truncated\".\n",
      "\n",
      "This seems to be occurring due to potential data size limitations in the database schema, which may require adjustments. Please investigate this matter to ensure data integrity and processing continuity.\n",
      "\n",
      "Thank you for your attention to this issue.\n",
      "\n",
      "Best regards,\n",
      "Ali \n",
      "Data Scientist\n"
     ]
    }
   ],
   "source": [
    "# example that passes the guardrail\n",
    "from pydantic import BaseModel, Field\n",
    "\n",
    "# 1. create structured pydantic to hint what yo are looking for\n",
    "class ErrorCheckOutput(BaseModel):\n",
    "    is_error_not_exist_in_email: bool = Field(description=\"indicate whether the email does not contain a technical error\")\n",
    "    error: str = Field(description=\"the error that is reported in the email\")\n",
    "\n",
    "# 2. create guardrail agent\n",
    "error_check_system_prompt = \"check if there is an error reported in the email\"\n",
    "error_check_guardrail_agent = Agent(\n",
    "    name=\"error check agent\",\n",
    "    instructions=error_check_system_prompt,\n",
    "    output_type=ErrorCheckOutput,\n",
    "    model='gpt-4o-mini'\n",
    ")\n",
    "\n",
    "# 3. create a wrapped  async function for guardrail\n",
    "@input_guardrail\n",
    "async def guardrail_against_error(ctx, agent, message):\n",
    "    result = await Runner.run(error_check_guardrail_agent, message, context=ctx.context)\n",
    "\n",
    "    is_error_not_exists_in_email = result.final_output.is_error_not_exist_in_email\n",
    "    return GuardrailFunctionOutput(\n",
    "        output_info={\"found_error\": result.final_output.error},\n",
    "        tripwire_triggered=is_error_not_exists_in_email\n",
    "    )\n",
    "\n",
    "\n",
    "# 4. ADD YOUR GUARDRAIL FUNCTION TO YOUR MAIN CALLING AGENT\n",
    "carefull_email_writer_agent = Agent(\n",
    "    name=\"email writer agent\",\n",
    "    instructions=email_writer_system_instruction,\n",
    "    output_type=EmailFormatOutput,\n",
    "    model=\"gpt-4o-mini\",\n",
    "    input_guardrails=[guardrail_against_error]\n",
    ")\n",
    "\n",
    "user_message = \"\"\"\n",
    "you got an error for \"DataError: string data, right truncated\".\n",
    "you want to write an email to infra@company.com to report this error\n",
    "\"\"\"\n",
    "\n",
    "with trace('structured email writer'):\n",
    "    email = await Runner.run(carefull_email_writer_agent, user_message)\n",
    "\n",
    "print(f'email address: {email.final_output.email_address}')\n",
    "print(f'subject: {email.final_output.subject}')\n",
    "print(f'body of email: {email.final_output.body_of_emai}')"
   ]
  },
  {
   "cell_type": "code",
   "execution_count": 20,
   "id": "03c732da",
   "metadata": {},
   "outputs": [
    {
     "ename": "InputGuardrailTripwireTriggered",
     "evalue": "Guardrail InputGuardrail triggered tripwire",
     "output_type": "error",
     "traceback": [
      "\u001b[31m---------------------------------------------------------------------------\u001b[39m",
      "\u001b[31mInputGuardrailTripwireTriggered\u001b[39m           Traceback (most recent call last)",
      "\u001b[36mCell\u001b[39m\u001b[36m \u001b[39m\u001b[32mIn[20]\u001b[39m\u001b[32m, line 8\u001b[39m\n\u001b[32m      3\u001b[39m user_message = \u001b[33m\"\"\"\u001b[39m\n\u001b[32m      4\u001b[39m \u001b[33mwrite an email that say thank you for sending you a new laptop\u001b[39m\n\u001b[32m      5\u001b[39m \u001b[33m\"\"\"\u001b[39m\n\u001b[32m      7\u001b[39m \u001b[38;5;28;01mwith\u001b[39;00m trace(\u001b[33m'\u001b[39m\u001b[33mstructured email writer\u001b[39m\u001b[33m'\u001b[39m):\n\u001b[32m----> \u001b[39m\u001b[32m8\u001b[39m     email = \u001b[38;5;28;01mawait\u001b[39;00m Runner.run(carefull_email_writer_agent, user_message)\n\u001b[32m     10\u001b[39m \u001b[38;5;28mprint\u001b[39m(\u001b[33mf\u001b[39m\u001b[33m'\u001b[39m\u001b[33memail address: \u001b[39m\u001b[38;5;132;01m{\u001b[39;00memail.final_output.email_address\u001b[38;5;132;01m}\u001b[39;00m\u001b[33m'\u001b[39m)\n\u001b[32m     11\u001b[39m \u001b[38;5;28mprint\u001b[39m(\u001b[33mf\u001b[39m\u001b[33m'\u001b[39m\u001b[33msubject: \u001b[39m\u001b[38;5;132;01m{\u001b[39;00memail.final_output.subject\u001b[38;5;132;01m}\u001b[39;00m\u001b[33m'\u001b[39m)\n",
      "\u001b[36mFile \u001b[39m\u001b[32m~/training-learning/agents/.venv/lib/python3.12/site-packages/agents/run.py:199\u001b[39m, in \u001b[36mRunner.run\u001b[39m\u001b[34m(cls, starting_agent, input, context, max_turns, hooks, run_config, previous_response_id)\u001b[39m\n\u001b[32m    172\u001b[39m \u001b[38;5;250m\u001b[39m\u001b[33;03m\"\"\"Run a workflow starting at the given agent. The agent will run in a loop until a final\u001b[39;00m\n\u001b[32m    173\u001b[39m \u001b[33;03moutput is generated. The loop runs like so:\u001b[39;00m\n\u001b[32m    174\u001b[39m \u001b[33;03m1. The agent is invoked with the given input.\u001b[39;00m\n\u001b[32m   (...)\u001b[39m\u001b[32m    196\u001b[39m \u001b[33;03m    agent. Agents may perform handoffs, so we don't know the specific type of the output.\u001b[39;00m\n\u001b[32m    197\u001b[39m \u001b[33;03m\"\"\"\u001b[39;00m\n\u001b[32m    198\u001b[39m runner = DEFAULT_AGENT_RUNNER\n\u001b[32m--> \u001b[39m\u001b[32m199\u001b[39m \u001b[38;5;28;01mreturn\u001b[39;00m \u001b[38;5;28;01mawait\u001b[39;00m runner.run(\n\u001b[32m    200\u001b[39m     starting_agent,\n\u001b[32m    201\u001b[39m     \u001b[38;5;28minput\u001b[39m,\n\u001b[32m    202\u001b[39m     context=context,\n\u001b[32m    203\u001b[39m     max_turns=max_turns,\n\u001b[32m    204\u001b[39m     hooks=hooks,\n\u001b[32m    205\u001b[39m     run_config=run_config,\n\u001b[32m    206\u001b[39m     previous_response_id=previous_response_id,\n\u001b[32m    207\u001b[39m )\n",
      "\u001b[36mFile \u001b[39m\u001b[32m~/training-learning/agents/.venv/lib/python3.12/site-packages/agents/run.py:395\u001b[39m, in \u001b[36mAgentRunner.run\u001b[39m\u001b[34m(self, starting_agent, input, **kwargs)\u001b[39m\n\u001b[32m    390\u001b[39m logger.debug(\n\u001b[32m    391\u001b[39m     \u001b[33mf\u001b[39m\u001b[33m\"\u001b[39m\u001b[33mRunning agent \u001b[39m\u001b[38;5;132;01m{\u001b[39;00mcurrent_agent.name\u001b[38;5;132;01m}\u001b[39;00m\u001b[33m (turn \u001b[39m\u001b[38;5;132;01m{\u001b[39;00mcurrent_turn\u001b[38;5;132;01m}\u001b[39;00m\u001b[33m)\u001b[39m\u001b[33m\"\u001b[39m,\n\u001b[32m    392\u001b[39m )\n\u001b[32m    394\u001b[39m \u001b[38;5;28;01mif\u001b[39;00m current_turn == \u001b[32m1\u001b[39m:\n\u001b[32m--> \u001b[39m\u001b[32m395\u001b[39m     input_guardrail_results, turn_result = \u001b[38;5;28;01mawait\u001b[39;00m asyncio.gather(\n\u001b[32m    396\u001b[39m         \u001b[38;5;28mself\u001b[39m._run_input_guardrails(\n\u001b[32m    397\u001b[39m             starting_agent,\n\u001b[32m    398\u001b[39m             starting_agent.input_guardrails\n\u001b[32m    399\u001b[39m             + (run_config.input_guardrails \u001b[38;5;129;01mor\u001b[39;00m []),\n\u001b[32m    400\u001b[39m             copy.deepcopy(\u001b[38;5;28minput\u001b[39m),\n\u001b[32m    401\u001b[39m             context_wrapper,\n\u001b[32m    402\u001b[39m         ),\n\u001b[32m    403\u001b[39m         \u001b[38;5;28mself\u001b[39m._run_single_turn(\n\u001b[32m    404\u001b[39m             agent=current_agent,\n\u001b[32m    405\u001b[39m             all_tools=all_tools,\n\u001b[32m    406\u001b[39m             original_input=original_input,\n\u001b[32m    407\u001b[39m             generated_items=generated_items,\n\u001b[32m    408\u001b[39m             hooks=hooks,\n\u001b[32m    409\u001b[39m             context_wrapper=context_wrapper,\n\u001b[32m    410\u001b[39m             run_config=run_config,\n\u001b[32m    411\u001b[39m             should_run_agent_start_hooks=should_run_agent_start_hooks,\n\u001b[32m    412\u001b[39m             tool_use_tracker=tool_use_tracker,\n\u001b[32m    413\u001b[39m             previous_response_id=previous_response_id,\n\u001b[32m    414\u001b[39m         ),\n\u001b[32m    415\u001b[39m     )\n\u001b[32m    416\u001b[39m \u001b[38;5;28;01melse\u001b[39;00m:\n\u001b[32m    417\u001b[39m     turn_result = \u001b[38;5;28;01mawait\u001b[39;00m \u001b[38;5;28mself\u001b[39m._run_single_turn(\n\u001b[32m    418\u001b[39m         agent=current_agent,\n\u001b[32m    419\u001b[39m         all_tools=all_tools,\n\u001b[32m   (...)\u001b[39m\u001b[32m    427\u001b[39m         previous_response_id=previous_response_id,\n\u001b[32m    428\u001b[39m     )\n",
      "\u001b[36mFile \u001b[39m\u001b[32m~/training-learning/agents/.venv/lib/python3.12/site-packages/agents/run.py:1003\u001b[39m, in \u001b[36mAgentRunner._run_input_guardrails\u001b[39m\u001b[34m(cls, agent, guardrails, input, context)\u001b[39m\n\u001b[32m    996\u001b[39m         t.cancel()\n\u001b[32m    997\u001b[39m     _error_tracing.attach_error_to_current_span(\n\u001b[32m    998\u001b[39m         SpanError(\n\u001b[32m    999\u001b[39m             message=\u001b[33m\"\u001b[39m\u001b[33mGuardrail tripwire triggered\u001b[39m\u001b[33m\"\u001b[39m,\n\u001b[32m   1000\u001b[39m             data={\u001b[33m\"\u001b[39m\u001b[33mguardrail\u001b[39m\u001b[33m\"\u001b[39m: result.guardrail.get_name()},\n\u001b[32m   1001\u001b[39m         )\n\u001b[32m   1002\u001b[39m     )\n\u001b[32m-> \u001b[39m\u001b[32m1003\u001b[39m     \u001b[38;5;28;01mraise\u001b[39;00m InputGuardrailTripwireTriggered(result)\n\u001b[32m   1004\u001b[39m \u001b[38;5;28;01melse\u001b[39;00m:\n\u001b[32m   1005\u001b[39m     guardrail_results.append(result)\n",
      "\u001b[31mInputGuardrailTripwireTriggered\u001b[39m: Guardrail InputGuardrail triggered tripwire"
     ]
    }
   ],
   "source": [
    "# example that fails the guardrail\n",
    "\n",
    "user_message = \"\"\"\n",
    "write an email that say thank you for sending you a new laptop\n",
    "\"\"\"\n",
    "\n",
    "with trace('structured email writer'):\n",
    "    email = await Runner.run(carefull_email_writer_agent, user_message)\n",
    "\n",
    "print(f'email address: {email.final_output.email_address}')\n",
    "print(f'subject: {email.final_output.subject}')\n",
    "print(f'body of email: {email.final_output.body_of_emai}')"
   ]
  },
  {
   "cell_type": "code",
   "execution_count": 15,
   "id": "ed07a014",
   "metadata": {},
   "outputs": [
    {
     "data": {
      "text/plain": [
       "False"
      ]
     },
     "execution_count": 15,
     "metadata": {},
     "output_type": "execute_result"
    }
   ],
   "source": [
    "a = True\n",
    "b = not a\n",
    "b"
   ]
  }
 ],
 "metadata": {
  "kernelspec": {
   "display_name": "agents",
   "language": "python",
   "name": "python3"
  },
  "language_info": {
   "codemirror_mode": {
    "name": "ipython",
    "version": 3
   },
   "file_extension": ".py",
   "mimetype": "text/x-python",
   "name": "python",
   "nbconvert_exporter": "python",
   "pygments_lexer": "ipython3",
   "version": "3.12.11"
  }
 },
 "nbformat": 4,
 "nbformat_minor": 5
}
