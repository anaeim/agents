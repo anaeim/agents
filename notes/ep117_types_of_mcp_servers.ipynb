{
 "cells": [
  {
   "cell_type": "markdown",
   "id": "0542370d",
   "metadata": {},
   "source": [
    "# Types of MCP Servers\n",
    "\n",
    "### 1. Local-only MCP servers  \n",
    "- **Description**:  \n",
    "  Runs entirely on your local computer, using only local resources.  \n",
    "  Example: a memory MCP server storing data in SQLite or JSON or mcp servers that read/write files in your local machine.\n",
    "\n",
    "- **Scope**:  \n",
    "  - Manage local state, memory, or resources.  \n",
    "  - Useful when agents need persistent memory or access to local files.  \n",
    "\n",
    "- **How often used**:  \n",
    "  🟡 *Occasional to moderate use* — helpful for memory/context but not always required.  \n",
    "\n",
    "---\n",
    "\n",
    "### 2. Local MCP servers with remote API calls  \n",
    "- **Description**:  \n",
    "  Runs locally but makes calls to external APIs or services over the internet.  \n",
    "  Example: MCP servers that fetch data online or automate browsers (e.g., Playwright), or fethch weather info, stock info. \n",
    "\n",
    "- **Scope**:  \n",
    "  - Extend agent capabilities with online data and services.  \n",
    "  - Most common setup for enriching agent context beyond local resources.  \n",
    "\n",
    "- **How often used**:  \n",
    "  🟢 *Very common* — most agent tasks rely on external knowledge or integrations.  \n",
    "\n",
    "---\n",
    "\n",
    "NOTE: for the local MCP servers, either \n",
    "- you could develop the code of an MCP server on your machine locally or \n",
    "- you can download the code from a remote repo and use/run it locally; ex: `params = {\"command\": \"npx\", \"args\": [\"-y\", \"@modelcontextprotocol/server-brave-search\"], \"env\": env}`\n",
    "\n",
    "---\n",
    "\n",
    "### 3. Managed / Hosted MCP servers  \n",
    "- **Description**:  \n",
    "  Runs remotely (not on your machine), hosted and managed by another provider.  \n",
    "  Example: cloud-hosted MCP services available for multiple users.  \n",
    "\n",
    "- **Scope**:  \n",
    "  - Centralized/shared infrastructure.  \n",
    "  - Offload heavy computation or provide shared resources.  \n",
    "\n",
    "- **How often used**:  \n",
    "  🔵 *Rare* — not typical during development, but useful in production or collaborative setups.  \n",
    "\n",
    "---\n",
    "\n",
    "### ✅ Summary\n",
    "- **Local-only** → for memory, file system, and private state (occasional).  \n",
    "- **Local + remote APIs** → for online tasks & integrations (most common).  \n",
    "- **Hosted/managed** → for cloud/shared services (rare but useful).  \n"
   ]
  }
 ],
 "metadata": {
  "kernelspec": {
   "display_name": "agents",
   "language": "python",
   "name": "python3"
  },
  "language_info": {
   "name": "python",
   "version": "3.12.11"
  }
 },
 "nbformat": 4,
 "nbformat_minor": 5
}
