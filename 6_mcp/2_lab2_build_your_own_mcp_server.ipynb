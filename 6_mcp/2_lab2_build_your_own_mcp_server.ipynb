{
 "cells": [
  {
   "cell_type": "markdown",
   "metadata": {},
   "source": [
    "### Week 6, Day 2\n",
    "\n",
    "We're about to create and use our own MCP Server and MCP Client!\n",
    "\n",
    "It's pretty simple, but it's not super-simple. The excitment around MCP is about how easy it is to share and use other MCP Servers - making our own does involve a bit of work.\n",
    "\n",
    "Let's review some python code made mostly by a hard-working Engineering Team:\n",
    "\n",
    "accounts.py"
   ]
  },
  {
   "cell_type": "code",
   "execution_count": 1,
   "metadata": {},
   "outputs": [
    {
     "data": {
      "text/plain": [
       "True"
      ]
     },
     "execution_count": 1,
     "metadata": {},
     "output_type": "execute_result"
    }
   ],
   "source": [
    "from dotenv import load_dotenv\n",
    "from agents import Agent, Runner, trace\n",
    "from agents.mcp import MCPServerStdio\n",
    "from IPython.display import display, Markdown\n",
    "\n",
    "load_dotenv(override=True)"
   ]
  },
  {
   "cell_type": "code",
   "execution_count": 2,
   "metadata": {},
   "outputs": [],
   "source": [
    "from accounts import Account # import a class from the script that you wrote"
   ]
  },
  {
   "cell_type": "code",
   "execution_count": 3,
   "metadata": {},
   "outputs": [
    {
     "data": {
      "text/plain": [
       "Account(name='ed', balance=9615.232, strategy='', holdings={'AMZN': 9}, transactions=[3 shares of AMZN at 18.036 each., 3 shares of AMZN at 72.144 each., 3 shares of AMZN at 38.076 each.], portfolio_value_time_series=[('2025-08-25 16:49:24', 10206.892), ('2025-08-25 16:49:27', 10083.892), ('2025-08-25 19:38:52', 10047.46), ('2025-08-25 19:38:52', 10083.46), ('2025-08-25 19:41:54', 10110.232), ('2025-08-25 19:41:55', 10470.232)])"
      ]
     },
     "execution_count": 3,
     "metadata": {},
     "output_type": "execute_result"
    }
   ],
   "source": [
    "account = Account.get(\"Ed\")\n",
    "account"
   ]
  },
  {
   "cell_type": "code",
   "execution_count": 4,
   "metadata": {},
   "outputs": [
    {
     "data": {
      "text/plain": [
       "'Completed. Latest details:\\n{\"name\": \"ed\", \"balance\": 9516.034, \"strategy\": \"\", \"holdings\": {\"AMZN\": 12}, \"transactions\": [{\"symbol\": \"AMZN\", \"quantity\": 3, \"price\": 18.036, \"timestamp\": \"2025-08-25 16:49:24\", \"rationale\": \"Because this bookstore website looks promising\"}, {\"symbol\": \"AMZN\", \"quantity\": 3, \"price\": 72.144, \"timestamp\": \"2025-08-25 19:38:52\", \"rationale\": \"Because this bookstore website looks promising\"}, {\"symbol\": \"AMZN\", \"quantity\": 3, \"price\": 38.076, \"timestamp\": \"2025-08-25 19:41:54\", \"rationale\": \"Because this bookstore website looks promising\"}, {\"symbol\": \"AMZN\", \"quantity\": 3, \"price\": 33.066, \"timestamp\": \"2025-08-25 21:06:16\", \"rationale\": \"Because this bookstore website looks promising\"}], \"portfolio_value_time_series\": [[\"2025-08-25 16:49:24\", 10206.892], [\"2025-08-25 16:49:27\", 10083.892], [\"2025-08-25 19:38:52\", 10047.46], [\"2025-08-25 19:38:52\", 10083.46], [\"2025-08-25 19:41:54\", 10110.232], [\"2025-08-25 19:41:55\", 10470.232], [\"2025-08-25 21:06:16\", 10608.034]], \"total_portfolio_value\": 10608.034, \"total_profit_loss\": 608.0339999999997}'"
      ]
     },
     "execution_count": 4,
     "metadata": {},
     "output_type": "execute_result"
    }
   ],
   "source": [
    "account.buy_shares(\"AMZN\", 3, \"Because this bookstore website looks promising\")"
   ]
  },
  {
   "cell_type": "code",
   "execution_count": 5,
   "metadata": {},
   "outputs": [
    {
     "data": {
      "text/plain": [
       "'{\"name\": \"ed\", \"balance\": 9516.034, \"strategy\": \"\", \"holdings\": {\"AMZN\": 12}, \"transactions\": [{\"symbol\": \"AMZN\", \"quantity\": 3, \"price\": 18.036, \"timestamp\": \"2025-08-25 16:49:24\", \"rationale\": \"Because this bookstore website looks promising\"}, {\"symbol\": \"AMZN\", \"quantity\": 3, \"price\": 72.144, \"timestamp\": \"2025-08-25 19:38:52\", \"rationale\": \"Because this bookstore website looks promising\"}, {\"symbol\": \"AMZN\", \"quantity\": 3, \"price\": 38.076, \"timestamp\": \"2025-08-25 19:41:54\", \"rationale\": \"Because this bookstore website looks promising\"}, {\"symbol\": \"AMZN\", \"quantity\": 3, \"price\": 33.066, \"timestamp\": \"2025-08-25 21:06:16\", \"rationale\": \"Because this bookstore website looks promising\"}], \"portfolio_value_time_series\": [[\"2025-08-25 16:49:24\", 10206.892], [\"2025-08-25 16:49:27\", 10083.892], [\"2025-08-25 19:38:52\", 10047.46], [\"2025-08-25 19:38:52\", 10083.46], [\"2025-08-25 19:41:54\", 10110.232], [\"2025-08-25 19:41:55\", 10470.232], [\"2025-08-25 21:06:16\", 10608.034], [\"2025-08-25 21:06:17\", 10656.034]], \"total_portfolio_value\": 10656.034, \"total_profit_loss\": 656.0339999999997}'"
      ]
     },
     "execution_count": 5,
     "metadata": {},
     "output_type": "execute_result"
    }
   ],
   "source": [
    "account.report()"
   ]
  },
  {
   "cell_type": "code",
   "execution_count": 6,
   "metadata": {},
   "outputs": [
    {
     "data": {
      "text/plain": [
       "[{'symbol': 'AMZN',\n",
       "  'quantity': 3,\n",
       "  'price': 18.036,\n",
       "  'timestamp': '2025-08-25 16:49:24',\n",
       "  'rationale': 'Because this bookstore website looks promising'},\n",
       " {'symbol': 'AMZN',\n",
       "  'quantity': 3,\n",
       "  'price': 72.144,\n",
       "  'timestamp': '2025-08-25 19:38:52',\n",
       "  'rationale': 'Because this bookstore website looks promising'},\n",
       " {'symbol': 'AMZN',\n",
       "  'quantity': 3,\n",
       "  'price': 38.076,\n",
       "  'timestamp': '2025-08-25 19:41:54',\n",
       "  'rationale': 'Because this bookstore website looks promising'},\n",
       " {'symbol': 'AMZN',\n",
       "  'quantity': 3,\n",
       "  'price': 33.066,\n",
       "  'timestamp': '2025-08-25 21:06:16',\n",
       "  'rationale': 'Because this bookstore website looks promising'}]"
      ]
     },
     "execution_count": 6,
     "metadata": {},
     "output_type": "execute_result"
    }
   ],
   "source": [
    "account.list_transactions()"
   ]
  },
  {
   "cell_type": "markdown",
   "metadata": {},
   "source": [
    "# convert funtions to mcp tools\n",
    "you have `account` class in `account.py`.<br>\n",
    "you create mcp tool based on this class in `account_server.py`:\n",
    "\n",
    "```python\n",
    "from mcp.server.fastmcp import FastMCP\n",
    "from accounts import Account\n",
    "\n",
    "mcp = FastMCP(\"accounts_server\")\n",
    "\n",
    "@mcp.tool()\n",
    "async def get_balance(name: str) -> float:\n",
    "    \"\"\"Get the cash balance of the given account name.\n",
    "\n",
    "    Args:\n",
    "        name: The name of the account holder\n",
    "    \"\"\"\n",
    "    return Account.get(name).balance\n",
    "\n",
    "@mcp.tool()\n",
    "async def get_holdings(name: str) -> dict[str, int]:\n",
    "    \"\"\"Get the holdings of the given account name.\n",
    "\n",
    "    Args:\n",
    "        name: The name of the account holder\n",
    "    \"\"\"\n",
    "    return Account.get(name).holdings\n",
    "\n",
    "@mcp.tool()\n",
    "async def buy_shares(name: str, symbol: str, quantity: int, rationale: str) -> float:\n",
    "    \"\"\"Buy shares of a stock.\n",
    "\n",
    "    Args:\n",
    "        name: The name of the account holder\n",
    "        symbol: The symbol of the stock\n",
    "        quantity: The quantity of shares to buy\n",
    "        rationale: The rationale for the purchase and fit with the account's strategy\n",
    "    \"\"\"\n",
    "    return Account.get(name).buy_shares(symbol, quantity, rationale)\n",
    "\n",
    "\n",
    "@mcp.tool()\n",
    "async def sell_shares(name: str, symbol: str, quantity: int, rationale: str) -> float:\n",
    "    \"\"\"Sell shares of a stock.\n",
    "\n",
    "    Args:\n",
    "        name: The name of the account holder\n",
    "        symbol: The symbol of the stock\n",
    "        quantity: The quantity of shares to sell\n",
    "        rationale: The rationale for the sale and fit with the account's strategy\n",
    "    \"\"\"\n",
    "    return Account.get(name).sell_shares(symbol, quantity, rationale)\n",
    "\n",
    "@mcp.tool()\n",
    "async def change_strategy(name: str, strategy: str) -> str:\n",
    "    \"\"\"At your discretion, if you choose to, call this to change your investment strategy for the future.\n",
    "\n",
    "    Args:\n",
    "        name: The name of the account holder\n",
    "        strategy: The new strategy for the account\n",
    "    \"\"\"\n",
    "    return Account.get(name).change_strategy(strategy)\n",
    "\n",
    "@mcp.resource(\"accounts://accounts_server/{name}\")\n",
    "async def read_account_resource(name: str) -> str:\n",
    "    account = Account.get(name.lower())\n",
    "    return account.report()\n",
    "\n",
    "@mcp.resource(\"accounts://strategy/{name}\")\n",
    "async def read_strategy_resource(name: str) -> str:\n",
    "    account = Account.get(name.lower())\n",
    "    return account.get_strategy()\n",
    "\n",
    "if __name__ == \"__main__\":\n",
    "    mcp.run(transport='stdio')\n",
    "```"
   ]
  },
  {
   "cell_type": "markdown",
   "metadata": {},
   "source": [
    "### questions from code block above that define mcp tools and resources\n",
    "\n",
    "Q. 🧩 What does `mcp.run` do?\n",
    "```python\n",
    "if __name__ == \"__main__\":\n",
    "    mcp.run(transport=\"stdio\")\n",
    "```\n",
    "\n",
    "#### 🔹 Starts the FastMCP server\n",
    "`FastMCP` is a helper for building an **MCP (Model Context Protocol) server**.  \n",
    "When you call `.run()`, it launches the server process and begins listening for requests from an MCP client (such as an AI assistant or another system that speaks MCP).\n",
    "\n",
    "---\n",
    "\n",
    "#### 🔹 Chooses the transport\n",
    "The argument `transport='stdio'` means the server will communicate over **standard input and output streams (stdin/stdout)**.\n",
    "\n",
    "- This is the most common way MCP servers are run, since it lets the server integrate easily with clients that just need to spawn the process and connect to it.  \n",
    "- Other transports (like sockets or custom ones) might be possible, but here it’s using **stdio**.\n",
    "\n",
    "---\n",
    "\n",
    "#### 🔹 Registers tools and resources\n",
    "Before calling `.run()`, you defined several tools (`get_balance`, `buy_shares`, etc.) and resources (`accounts://...`).  \n",
    "When the server runs, all of those become **callable methods** that a client can invoke via the MCP protocol.\n",
    "\n"
   ]
  },
  {
   "cell_type": "markdown",
   "metadata": {},
   "source": [
    "### Now we write an MCP server and use it directly!"
   ]
  },
  {
   "cell_type": "markdown",
   "metadata": {},
   "source": [
    "#### Q. why we need `async with`? <br>\n",
    "A. The key reason you cannot use a normal `with` here is because `MCPServerStdio` is an asynchronous context manager. <br>\n",
    "`MCPServerStdio` is openAI agents SDK **asynchronous** context manager \n",
    "\n",
    "normal `with` returns type error: <br>\n",
    "```bash\n",
    "TypeError: 'MCPServerStdio' object does not support the context manager protocol\n",
    "```"
   ]
  },
  {
   "cell_type": "code",
   "execution_count": 7,
   "metadata": {},
   "outputs": [],
   "source": [
    "# # it return error: TypeError: 'MCPServerStdio' object does not support the context manager protocol\n",
    "# params = {\"command\": \"uv\", \"args\": [\"run\", \"accounts_server.py\"]}\n",
    "# with MCPServerStdio(params=params, client_session_timeout_seconds=30) as server:\n",
    "#     mcp_tools = server.list_tools()\n"
   ]
  },
  {
   "cell_type": "code",
   "execution_count": 8,
   "metadata": {},
   "outputs": [],
   "source": [
    "# Now let's use our accounts server as an MCP server to get the list of tools\n",
    "\n",
    "params = {\"command\": \"uv\", \"args\": [\"run\", \"accounts_server.py\"]}\n",
    "async with MCPServerStdio(params=params, client_session_timeout_seconds=30) as server:\n",
    "    mcp_tools = await server.list_tools()\n"
   ]
  },
  {
   "cell_type": "code",
   "execution_count": 9,
   "metadata": {},
   "outputs": [
    {
     "name": "stdout",
     "output_type": "stream",
     "text": [
      "---\n",
      "name='get_balance' description='Get the cash balance of the given account name.\\n\\n    Args:\\n        name: The name of the account holder\\n    ' inputSchema={'properties': {'name': {'title': 'Name', 'type': 'string'}}, 'required': ['name'], 'title': 'get_balanceArguments', 'type': 'object'} annotations=None\n",
      "---\n",
      "name='get_holdings' description='Get the holdings of the given account name.\\n\\n    Args:\\n        name: The name of the account holder\\n    ' inputSchema={'properties': {'name': {'title': 'Name', 'type': 'string'}}, 'required': ['name'], 'title': 'get_holdingsArguments', 'type': 'object'} annotations=None\n",
      "---\n",
      "name='buy_shares' description=\"Buy shares of a stock.\\n\\n    Args:\\n        name: The name of the account holder\\n        symbol: The symbol of the stock\\n        quantity: The quantity of shares to buy\\n        rationale: The rationale for the purchase and fit with the account's strategy\\n    \" inputSchema={'properties': {'name': {'title': 'Name', 'type': 'string'}, 'symbol': {'title': 'Symbol', 'type': 'string'}, 'quantity': {'title': 'Quantity', 'type': 'integer'}, 'rationale': {'title': 'Rationale', 'type': 'string'}}, 'required': ['name', 'symbol', 'quantity', 'rationale'], 'title': 'buy_sharesArguments', 'type': 'object'} annotations=None\n",
      "---\n",
      "name='sell_shares' description=\"Sell shares of a stock.\\n\\n    Args:\\n        name: The name of the account holder\\n        symbol: The symbol of the stock\\n        quantity: The quantity of shares to sell\\n        rationale: The rationale for the sale and fit with the account's strategy\\n    \" inputSchema={'properties': {'name': {'title': 'Name', 'type': 'string'}, 'symbol': {'title': 'Symbol', 'type': 'string'}, 'quantity': {'title': 'Quantity', 'type': 'integer'}, 'rationale': {'title': 'Rationale', 'type': 'string'}}, 'required': ['name', 'symbol', 'quantity', 'rationale'], 'title': 'sell_sharesArguments', 'type': 'object'} annotations=None\n",
      "---\n",
      "name='change_strategy' description='At your discretion, if you choose to, call this to change your investment strategy for the future.\\n\\n    Args:\\n        name: The name of the account holder\\n        strategy: The new strategy for the account\\n    ' inputSchema={'properties': {'name': {'title': 'Name', 'type': 'string'}, 'strategy': {'title': 'Strategy', 'type': 'string'}}, 'required': ['name', 'strategy'], 'title': 'change_strategyArguments', 'type': 'object'} annotations=None\n",
      "---\n",
      "name='print_my_name' description='Print the name of the account holder.\\n\\n    Args:\\n        name: The name of the account holder\\n    ' inputSchema={'properties': {'name': {'title': 'Name', 'type': 'string'}}, 'required': ['name'], 'title': 'print_my_nameArguments', 'type': 'object'} annotations=None\n",
      "---\n",
      "name='print_today_date' description=\"Print today's date.\\n\\n    Args:\\n        name: The name of the account holder\\n    \" inputSchema={'properties': {}, 'title': 'print_today_dateArguments', 'type': 'object'} annotations=None\n"
     ]
    }
   ],
   "source": [
    "for mcp_tool in mcp_tools:\n",
    "    print('---')\n",
    "    print(mcp_tool)\n"
   ]
  },
  {
   "cell_type": "code",
   "execution_count": 10,
   "metadata": {},
   "outputs": [],
   "source": [
    "instructions = \"You are able to manage an account for a client, and answer questions about the account.\"\n",
    "request = \"My name is Ed and my account is under the name Ed. What's my balance and my holdings?\"\n",
    "model = \"gpt-4.1-mini\""
   ]
  },
  {
   "cell_type": "code",
   "execution_count": 11,
   "metadata": {},
   "outputs": [
    {
     "data": {
      "text/markdown": [
       "Ed, your current account balance is $9,516.03. In terms of holdings, you have 12 shares of Amazon (AMZN). If you need any further details or want to make transactions, just let me know!"
      ],
      "text/plain": [
       "<IPython.core.display.Markdown object>"
      ]
     },
     "metadata": {},
     "output_type": "display_data"
    }
   ],
   "source": [
    "\n",
    "async with MCPServerStdio(params=params, client_session_timeout_seconds=30) as mcp_server: # create mcp_server\n",
    "    agent = Agent(name=\"account_manager\", instructions=instructions, model=model, mcp_servers=[mcp_server]) # pass mcp_server to the agent\n",
    "    with trace(\"account_manager\"):\n",
    "        result = await Runner.run(agent, request)\n",
    "    display(Markdown(result.final_output))\n"
   ]
  },
  {
   "cell_type": "markdown",
   "metadata": {},
   "source": [
    "### build our own MCP Client"
   ]
  },
  {
   "cell_type": "code",
   "execution_count": null,
   "metadata": {},
   "outputs": [],
   "source": [
    "from accounts_client import get_accounts_tools_openai, read_accounts_resource, list_accounts_tools\n",
    "\n",
    "mcp_tools = await list_accounts_tools()\n",
    "print(mcp_tools)\n",
    "openai_tools = await get_accounts_tools_openai()\n",
    "print(openai_tools)"
   ]
  },
  {
   "cell_type": "code",
   "execution_count": null,
   "metadata": {},
   "outputs": [],
   "source": [
    "request = \"My name is Ed and my account is under the name Ed. What's my balance?\"\n",
    "\n",
    "with trace(\"account_mcp_client\"):\n",
    "    agent = Agent(name=\"account_manager\", instructions=instructions, model=model, tools=openai_tools)\n",
    "    result = await Runner.run(agent, request)\n",
    "    display(Markdown(result.final_output))"
   ]
  },
  {
   "cell_type": "code",
   "execution_count": null,
   "metadata": {},
   "outputs": [],
   "source": [
    "context = await read_accounts_resource(\"ed\")\n",
    "print(context)"
   ]
  },
  {
   "cell_type": "code",
   "execution_count": null,
   "metadata": {},
   "outputs": [],
   "source": [
    "from accounts import Account\n",
    "Account.get(\"ed\").report()"
   ]
  },
  {
   "cell_type": "markdown",
   "metadata": {},
   "source": [
    "<table style=\"margin: 0; text-align: left; width:100%\">\n",
    "    <tr>\n",
    "        <td style=\"width: 150px; height: 150px; vertical-align: middle;\">\n",
    "            <img src=\"../assets/exercise.png\" width=\"150\" height=\"150\" style=\"display: block;\" />\n",
    "        </td>\n",
    "        <td>\n",
    "            <h2 style=\"color:#ff7800;\">Exercises</h2>\n",
    "            <span style=\"color:#ff7800;\">Make your own MCP Server! Make a simple function to return the current Date, and expose it as a tool so that an Agent can tell you today's date.<br/>Harder optional exercise: then make an MCP Client, and use a native OpenAI call (without the Agents SDK) to use your tool via your client.\n",
    "            </span>\n",
    "        </td>\n",
    "    </tr>\n",
    "</table>"
   ]
  }
 ],
 "metadata": {
  "kernelspec": {
   "display_name": "agents",
   "language": "python",
   "name": "python3"
  },
  "language_info": {
   "codemirror_mode": {
    "name": "ipython",
    "version": 3
   },
   "file_extension": ".py",
   "mimetype": "text/x-python",
   "name": "python",
   "nbconvert_exporter": "python",
   "pygments_lexer": "ipython3",
   "version": "3.12.3"
  }
 },
 "nbformat": 4,
 "nbformat_minor": 2
}
