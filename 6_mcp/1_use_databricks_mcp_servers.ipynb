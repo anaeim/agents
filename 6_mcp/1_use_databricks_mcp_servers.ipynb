{
 "cells": [
  {
   "cell_type": "markdown",
   "id": "c22c182d",
   "metadata": {},
   "source": [
    "ref: [link](https://docs.databricks.com/aws/en/generative-ai/mcp/managed-mcp)"
   ]
  }
 ],
 "metadata": {
  "language_info": {
   "name": "python"
  }
 },
 "nbformat": 4,
 "nbformat_minor": 5
}
